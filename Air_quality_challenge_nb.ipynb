{
  "nbformat": 4,
  "nbformat_minor": 0,
  "metadata": {
    "kernelspec": {
      "display_name": "Python 3",
      "language": "python",
      "name": "python3"
    },
    "language_info": {
      "codemirror_mode": {
        "name": "ipython",
        "version": 3
      },
      "file_extension": ".py",
      "mimetype": "text/x-python",
      "name": "python",
      "nbconvert_exporter": "python",
      "pygments_lexer": "ipython3",
      "version": "3.6.8"
    },
    "colab": {
      "name": "Air_quality_challenge_nb.ipynb",
      "provenance": [],
      "collapsed_sections": [],
      "include_colab_link": true
    }
  },
  "cells": [
    {
      "cell_type": "markdown",
      "metadata": {
        "id": "view-in-github",
        "colab_type": "text"
      },
      "source": [
        "<a href=\"https://colab.research.google.com/github/anindabitm/Air_quality_challenge/blob/master/Air_quality_challenge_nb.ipynb\" target=\"_parent\"><img src=\"https://colab.research.google.com/assets/colab-badge.svg\" alt=\"Open In Colab\"/></a>"
      ]
    },
    {
      "cell_type": "code",
      "metadata": {
        "id": "8hSgHIX6BXvZ",
        "colab_type": "code",
        "outputId": "8673d193-c1f7-4159-8480-27632a0eda55",
        "colab": {
          "base_uri": "https://localhost:8080/",
          "height": 122
        }
      },
      "source": [
        "from google.colab import drive\n",
        "drive.mount('/content/drive')"
      ],
      "execution_count": 0,
      "outputs": [
        {
          "output_type": "stream",
          "text": [
            "Go to this URL in a browser: https://accounts.google.com/o/oauth2/auth?client_id=947318989803-6bn6qk8qdgf4n4g3pfee6491hc0brc4i.apps.googleusercontent.com&redirect_uri=urn%3aietf%3awg%3aoauth%3a2.0%3aoob&response_type=code&scope=email%20https%3a%2f%2fwww.googleapis.com%2fauth%2fdocs.test%20https%3a%2f%2fwww.googleapis.com%2fauth%2fdrive%20https%3a%2f%2fwww.googleapis.com%2fauth%2fdrive.photos.readonly%20https%3a%2f%2fwww.googleapis.com%2fauth%2fpeopleapi.readonly\n",
            "\n",
            "Enter your authorization code:\n",
            "··········\n",
            "Mounted at /content/drive\n"
          ],
          "name": "stdout"
        }
      ]
    },
    {
      "cell_type": "code",
      "metadata": {
        "id": "5ZfRH6EbCAaM",
        "colab_type": "code",
        "colab": {}
      },
      "source": [
        "import os\n",
        "os.chdir('/content/drive/My Drive/Air_quality/')"
      ],
      "execution_count": 0,
      "outputs": []
    },
    {
      "cell_type": "code",
      "metadata": {
        "id": "eJbQKiA0-P6c",
        "colab_type": "code",
        "colab": {}
      },
      "source": [
        "import requests\n",
        "import requests, zipfile\n",
        "\n",
        "url = 'https://api.zindi.africa/v1/competitions/airqo-ugandan-air-quality-forecast-challenge/files/Train.csv'\n",
        "myobj = {'auth_token': '2gW9tmmDfUefroDYvei3HhE3'} \n",
        "\n",
        "x = requests.post(url, data = myobj,stream=True)\n",
        "target_path = 'Train.csv'\n",
        "\n",
        "handle = open(target_path, \"wb\")\n",
        "for chunk in x.iter_content(chunk_size=512):\n",
        "    if chunk:  # filter out keep-alive new chunks\n",
        "        handle.write(chunk)\n",
        "handle.close()"
      ],
      "execution_count": 0,
      "outputs": []
    },
    {
      "cell_type": "code",
      "metadata": {
        "id": "37ZSAm4pCR1H",
        "colab_type": "code",
        "colab": {}
      },
      "source": [
        "url = 'https://api.zindi.africa/v1/competitions/airqo-ugandan-air-quality-forecast-challenge/files/Test.csv'\n",
        "myobj = {'auth_token': '2gW9tmmDfUefroDYvei3HhE3'} \n",
        "\n",
        "x = requests.post(url, data = myobj,stream=True)\n",
        "target_path = 'Test.csv'\n",
        "\n",
        "handle = open(target_path, \"wb\")\n",
        "for chunk in x.iter_content(chunk_size=512):\n",
        "    if chunk:  # filter out keep-alive new chunks\n",
        "        handle.write(chunk)\n",
        "handle.close()"
      ],
      "execution_count": 0,
      "outputs": []
    },
    {
      "cell_type": "code",
      "metadata": {
        "id": "ND3IQao5yfKv",
        "colab_type": "code",
        "outputId": "daafcf93-1103-491b-9e68-75aed57eb91a",
        "colab": {
          "base_uri": "https://localhost:8080/",
          "height": 51
        }
      },
      "source": [
        "!ls"
      ],
      "execution_count": 0,
      "outputs": [
        {
          "output_type": "stream",
          "text": [
            "airqo_metadata.csv  proc_data\t    subs      Train.csv\n",
            "model_save\t    sample_sub.csv  Test.csv\n"
          ],
          "name": "stdout"
        }
      ]
    },
    {
      "cell_type": "code",
      "metadata": {
        "id": "lygrd_4THhsP",
        "colab_type": "code",
        "colab": {}
      },
      "source": [
        "import pandas as pd \n",
        "import numpy as np \n",
        "from tqdm import tqdm\n",
        "import math\n",
        "import gc"
      ],
      "execution_count": 0,
      "outputs": []
    },
    {
      "cell_type": "code",
      "metadata": {
        "id": "bL6AyrM-yzGH",
        "colab_type": "code",
        "outputId": "aac20551-bdb2-4fb9-bc27-9d6cda0f6857",
        "colab": {
          "base_uri": "https://localhost:8080/",
          "height": 34
        }
      },
      "source": [
        "sample=pd.read_csv('sample_sub.csv')\n",
        "sample.shape"
      ],
      "execution_count": 0,
      "outputs": [
        {
          "output_type": "execute_result",
          "data": {
            "text/plain": [
              "(5035, 2)"
            ]
          },
          "metadata": {
            "tags": []
          },
          "execution_count": 58
        }
      ]
    },
    {
      "cell_type": "code",
      "metadata": {
        "id": "fT7_JfP_zGcw",
        "colab_type": "code",
        "outputId": "e54f727d-7828-4e97-fe08-8fbdcf570bc0",
        "colab": {
          "base_uri": "https://localhost:8080/",
          "height": 204
        }
      },
      "source": [
        "sample.head()"
      ],
      "execution_count": 0,
      "outputs": [
        {
          "output_type": "execute_result",
          "data": {
            "text/html": [
              "<div>\n",
              "<style scoped>\n",
              "    .dataframe tbody tr th:only-of-type {\n",
              "        vertical-align: middle;\n",
              "    }\n",
              "\n",
              "    .dataframe tbody tr th {\n",
              "        vertical-align: top;\n",
              "    }\n",
              "\n",
              "    .dataframe thead th {\n",
              "        text-align: right;\n",
              "    }\n",
              "</style>\n",
              "<table border=\"1\" class=\"dataframe\">\n",
              "  <thead>\n",
              "    <tr style=\"text-align: right;\">\n",
              "      <th></th>\n",
              "      <th>ID</th>\n",
              "      <th>target</th>\n",
              "    </tr>\n",
              "  </thead>\n",
              "  <tbody>\n",
              "    <tr>\n",
              "      <th>0</th>\n",
              "      <td>ID_test_0</td>\n",
              "      <td>0</td>\n",
              "    </tr>\n",
              "    <tr>\n",
              "      <th>1</th>\n",
              "      <td>ID_test_1</td>\n",
              "      <td>0</td>\n",
              "    </tr>\n",
              "    <tr>\n",
              "      <th>2</th>\n",
              "      <td>ID_test_2</td>\n",
              "      <td>0</td>\n",
              "    </tr>\n",
              "    <tr>\n",
              "      <th>3</th>\n",
              "      <td>ID_test_3</td>\n",
              "      <td>0</td>\n",
              "    </tr>\n",
              "    <tr>\n",
              "      <th>4</th>\n",
              "      <td>ID_test_4</td>\n",
              "      <td>0</td>\n",
              "    </tr>\n",
              "  </tbody>\n",
              "</table>\n",
              "</div>"
            ],
            "text/plain": [
              "          ID  target\n",
              "0  ID_test_0       0\n",
              "1  ID_test_1       0\n",
              "2  ID_test_2       0\n",
              "3  ID_test_3       0\n",
              "4  ID_test_4       0"
            ]
          },
          "metadata": {
            "tags": []
          },
          "execution_count": 59
        }
      ]
    },
    {
      "cell_type": "code",
      "metadata": {
        "id": "laCuoZYCHhsW",
        "colab_type": "code",
        "colab": {}
      },
      "source": [
        "# ! cp data/Train_target.csv ./raw_data/Train_target.csv\n",
        "# ! cp data/Test_target.csv ./raw_data/Test_target.csv"
      ],
      "execution_count": 0,
      "outputs": []
    },
    {
      "cell_type": "code",
      "metadata": {
        "id": "tRthNH90Hhsa",
        "colab_type": "code",
        "colab": {}
      },
      "source": [
        "train=pd.read_csv(\"Train.csv\")\n",
        "test=pd.read_csv(\"Test.csv\")"
      ],
      "execution_count": 0,
      "outputs": []
    },
    {
      "cell_type": "code",
      "metadata": {
        "id": "j_1ClVwsHhsf",
        "colab_type": "code",
        "outputId": "75efaf72-3d9c-4ce3-9726-545eaf28502d",
        "colab": {
          "base_uri": "https://localhost:8080/",
          "height": 224
        }
      },
      "source": [
        "train.head()"
      ],
      "execution_count": 0,
      "outputs": [
        {
          "output_type": "execute_result",
          "data": {
            "text/html": [
              "<div>\n",
              "<style scoped>\n",
              "    .dataframe tbody tr th:only-of-type {\n",
              "        vertical-align: middle;\n",
              "    }\n",
              "\n",
              "    .dataframe tbody tr th {\n",
              "        vertical-align: top;\n",
              "    }\n",
              "\n",
              "    .dataframe thead th {\n",
              "        text-align: right;\n",
              "    }\n",
              "</style>\n",
              "<table border=\"1\" class=\"dataframe\">\n",
              "  <thead>\n",
              "    <tr style=\"text-align: right;\">\n",
              "      <th></th>\n",
              "      <th>ID</th>\n",
              "      <th>location</th>\n",
              "      <th>temp</th>\n",
              "      <th>precip</th>\n",
              "      <th>rel_humidity</th>\n",
              "      <th>wind_dir</th>\n",
              "      <th>wind_spd</th>\n",
              "      <th>atmos_press</th>\n",
              "      <th>target</th>\n",
              "    </tr>\n",
              "  </thead>\n",
              "  <tbody>\n",
              "    <tr>\n",
              "      <th>0</th>\n",
              "      <td>ID_train_0</td>\n",
              "      <td>C</td>\n",
              "      <td>nan,nan,nan,nan,nan,nan,nan,nan,nan,nan,nan,na...</td>\n",
              "      <td>nan,nan,nan,nan,nan,nan,nan,nan,nan,nan,nan,na...</td>\n",
              "      <td>nan,nan,nan,nan,nan,nan,nan,nan,nan,nan,nan,na...</td>\n",
              "      <td>nan,nan,nan,nan,nan,nan,nan,nan,nan,nan,nan,na...</td>\n",
              "      <td>nan,nan,nan,nan,nan,nan,nan,nan,nan,nan,nan,na...</td>\n",
              "      <td>nan,nan,nan,nan,nan,nan,nan,nan,nan,nan,nan,na...</td>\n",
              "      <td>45.126304</td>\n",
              "    </tr>\n",
              "    <tr>\n",
              "      <th>1</th>\n",
              "      <td>ID_train_1</td>\n",
              "      <td>D</td>\n",
              "      <td>22.53333333,21.71666667,20.83333333,20.9833333...</td>\n",
              "      <td>0.102,0.0,0.0,0.0,0.0,0.0,0.0,0.034,0.017,0.01...</td>\n",
              "      <td>0.744583333,0.808083333,0.911166667,0.91633333...</td>\n",
              "      <td>281.6643101,89.15629262,81.96853891,291.018632...</td>\n",
              "      <td>2.3775,1.126666667,0.700833333,0.3416666670000...</td>\n",
              "      <td>90.32,90.3775,90.44083333,90.4725,90.45416667,...</td>\n",
              "      <td>79.131702</td>\n",
              "    </tr>\n",
              "    <tr>\n",
              "      <th>2</th>\n",
              "      <td>ID_train_10</td>\n",
              "      <td>A</td>\n",
              "      <td>28.975,27.95,29.6,26.425,22.09166667,21.775,22...</td>\n",
              "      <td>0.0,0.0,0.0,0.102,0.136,0.0,0.0,2.16,1.276,0.0...</td>\n",
              "      <td>0.573333333,0.597166667,0.5668333329999999,0.6...</td>\n",
              "      <td>nan,nan,nan,nan,nan,nan,nan,nan,nan,nan,nan,na...</td>\n",
              "      <td>nan,nan,nan,nan,nan,nan,nan,nan,nan,nan,nan,na...</td>\n",
              "      <td>88.55166667,88.46416667,88.31916667,88.24,88.2...</td>\n",
              "      <td>32.661304</td>\n",
              "    </tr>\n",
              "    <tr>\n",
              "      <th>3</th>\n",
              "      <td>ID_train_100</td>\n",
              "      <td>A</td>\n",
              "      <td>22.96666667,24.26666667,25.275,25.625,25.86666...</td>\n",
              "      <td>0.0,0.0,0.0,0.0,0.0,0.0,0.0,0.0,7.77,3.012,1.0...</td>\n",
              "      <td>0.8430833329999999,0.79025,0.7375,0.728,0.7049...</td>\n",
              "      <td>300.0850574,293.6769595,294.5174647,301.921416...</td>\n",
              "      <td>1.446666667,1.1925,1.324166667,1.5441666669999...</td>\n",
              "      <td>88.615,88.53083333,88.4,88.27166667,88.2075,88...</td>\n",
              "      <td>53.850238</td>\n",
              "    </tr>\n",
              "    <tr>\n",
              "      <th>4</th>\n",
              "      <td>ID_train_1000</td>\n",
              "      <td>A</td>\n",
              "      <td>21.875,21.575,21.525,21.43333333,20.50833333,1...</td>\n",
              "      <td>0.0,0.0,0.0,0.0,0.0,0.0,0.0,0.0,0.0,0.0,0.0,0....</td>\n",
              "      <td>0.8564166670000001,0.874916667,0.879833333,0.8...</td>\n",
              "      <td>21.83997432,17.05405341,89.26406044,123.585424...</td>\n",
              "      <td>0.1975,0.244166667,0.411666667,0.56,0.5775,0.4...</td>\n",
              "      <td>88.55666667,88.64083333,88.65833333,88.6475,88...</td>\n",
              "      <td>177.418750</td>\n",
              "    </tr>\n",
              "  </tbody>\n",
              "</table>\n",
              "</div>"
            ],
            "text/plain": [
              "              ID  ...      target\n",
              "0     ID_train_0  ...   45.126304\n",
              "1     ID_train_1  ...   79.131702\n",
              "2    ID_train_10  ...   32.661304\n",
              "3   ID_train_100  ...   53.850238\n",
              "4  ID_train_1000  ...  177.418750\n",
              "\n",
              "[5 rows x 9 columns]"
            ]
          },
          "metadata": {
            "tags": []
          },
          "execution_count": 5
        }
      ]
    },
    {
      "cell_type": "code",
      "metadata": {
        "id": "Cz6jfBntHhsl",
        "colab_type": "code",
        "outputId": "16982a8e-d743-4c0d-f086-5d8c5f926fbc",
        "colab": {
          "base_uri": "https://localhost:8080/",
          "height": 224
        }
      },
      "source": [
        "test.head()"
      ],
      "execution_count": 0,
      "outputs": [
        {
          "output_type": "execute_result",
          "data": {
            "text/html": [
              "<div>\n",
              "<style scoped>\n",
              "    .dataframe tbody tr th:only-of-type {\n",
              "        vertical-align: middle;\n",
              "    }\n",
              "\n",
              "    .dataframe tbody tr th {\n",
              "        vertical-align: top;\n",
              "    }\n",
              "\n",
              "    .dataframe thead th {\n",
              "        text-align: right;\n",
              "    }\n",
              "</style>\n",
              "<table border=\"1\" class=\"dataframe\">\n",
              "  <thead>\n",
              "    <tr style=\"text-align: right;\">\n",
              "      <th></th>\n",
              "      <th>ID</th>\n",
              "      <th>location</th>\n",
              "      <th>temp</th>\n",
              "      <th>precip</th>\n",
              "      <th>rel_humidity</th>\n",
              "      <th>wind_dir</th>\n",
              "      <th>wind_spd</th>\n",
              "      <th>atmos_press</th>\n",
              "    </tr>\n",
              "  </thead>\n",
              "  <tbody>\n",
              "    <tr>\n",
              "      <th>0</th>\n",
              "      <td>ID_test_0</td>\n",
              "      <td>C</td>\n",
              "      <td>23.96666667,22.88333333,22.28333333,21.4833333...</td>\n",
              "      <td>0.0,0.0,0.0,0.0,0.0,0.0,0.0,0.0,0.0,0.0,0.0,0....</td>\n",
              "      <td>0.6898333329999999,0.722333333,0.7755833329999...</td>\n",
              "      <td>290.1352379,328.47011289999995,323.5730796,282...</td>\n",
              "      <td>0.6333333329999999,0.725,0.955,0.8725,0.6925,0...</td>\n",
              "      <td>87.64333333,87.67,87.70583333,87.75083333,87.7...</td>\n",
              "    </tr>\n",
              "    <tr>\n",
              "      <th>1</th>\n",
              "      <td>ID_test_1</td>\n",
              "      <td>C</td>\n",
              "      <td>18.99166667,19.70833333,20.95833333,22.7833333...</td>\n",
              "      <td>0.0,0.0,0.0,0.0,0.0,0.0,0.0,0.0,0.0,0.0,0.0,0....</td>\n",
              "      <td>0.99975,0.99725,0.956333333,0.851583333,0.7775...</td>\n",
              "      <td>295.2350543,307.6569135,313.7360236,311.518385...</td>\n",
              "      <td>0.640833333,1.244166667,1.284166667,1.2875,1.3...</td>\n",
              "      <td>87.8925,87.95666667,87.9925,87.9925,87.9808333...</td>\n",
              "    </tr>\n",
              "    <tr>\n",
              "      <th>2</th>\n",
              "      <td>ID_test_10</td>\n",
              "      <td>D</td>\n",
              "      <td>25.11666667,25.08333333,24.40833333,23.575,22....</td>\n",
              "      <td>0.0,0.0,0.0,0.0,0.0,0.0,0.0,0.0,0.0,0.0,0.0,0....</td>\n",
              "      <td>0.760166667,0.733583333,0.78475,0.825833333,0....</td>\n",
              "      <td>77.06161145,95.48124997,61.44498258,89.4688360...</td>\n",
              "      <td>2.0133333330000003,1.3025,0.783333333,0.530833...</td>\n",
              "      <td>90.34,90.2975,90.305,90.35583333,90.4425,90.49...</td>\n",
              "    </tr>\n",
              "    <tr>\n",
              "      <th>3</th>\n",
              "      <td>ID_test_100</td>\n",
              "      <td>C</td>\n",
              "      <td>18.71666667,20.60833333,22.28333333,23.9833333...</td>\n",
              "      <td>0.0,0.0,0.0,0.0,0.0,0.0,0.0,0.0,3.604,0.0,0.0,...</td>\n",
              "      <td>0.951416667,0.92575,0.8603333329999999,0.77883...</td>\n",
              "      <td>310.7509058,316.186793,324.8167326,327.2174992...</td>\n",
              "      <td>0.745,1.169166667,1.316666667,1.385,1.40083333...</td>\n",
              "      <td>87.98833333,88.06333333,88.07833333,88.0366666...</td>\n",
              "    </tr>\n",
              "    <tr>\n",
              "      <th>4</th>\n",
              "      <td>ID_test_1000</td>\n",
              "      <td>D</td>\n",
              "      <td>17.63333333,18.05833333,19.625,21.28333333,23....</td>\n",
              "      <td>0.0,0.0,0.0,0.0,0.0,0.0,0.0,0.0,0.0,0.0,0.0,0....</td>\n",
              "      <td>0.9,0.898333333,0.8725,0.831666667,0.820833332...</td>\n",
              "      <td>334.6054069,329.6848561000001,322.7668036,312....</td>\n",
              "      <td>0.620833333,0.5,0.456666667,0.558333333,1.0158...</td>\n",
              "      <td>90.515,90.5575,90.62333333,90.6825,90.67916667...</td>\n",
              "    </tr>\n",
              "  </tbody>\n",
              "</table>\n",
              "</div>"
            ],
            "text/plain": [
              "             ID  ...                                        atmos_press\n",
              "0     ID_test_0  ...  87.64333333,87.67,87.70583333,87.75083333,87.7...\n",
              "1     ID_test_1  ...  87.8925,87.95666667,87.9925,87.9925,87.9808333...\n",
              "2    ID_test_10  ...  90.34,90.2975,90.305,90.35583333,90.4425,90.49...\n",
              "3   ID_test_100  ...  87.98833333,88.06333333,88.07833333,88.0366666...\n",
              "4  ID_test_1000  ...  90.515,90.5575,90.62333333,90.6825,90.67916667...\n",
              "\n",
              "[5 rows x 8 columns]"
            ]
          },
          "metadata": {
            "tags": []
          },
          "execution_count": 6
        }
      ]
    },
    {
      "cell_type": "code",
      "metadata": {
        "id": "7lskkR2rHhss",
        "colab_type": "code",
        "colab": {}
      },
      "source": [
        "# covert features  fron string to List of values \n",
        "def replace_nan(x):\n",
        "    if x==\" \":\n",
        "        return np.nan\n",
        "    else :\n",
        "        return float(x)\n",
        "features=[\"temp\",\"precip\",\"rel_humidity\",\"wind_dir\",\"wind_spd\",\"atmos_press\"]\n",
        "for feature in features : \n",
        "    train[feature]=train[feature].apply(lambda x: [ replace_nan(X) for X in x.replace(\"nan\",\" \").split(\",\")])\n",
        "    test[feature]=test[feature].apply(lambda x: [ replace_nan(X)  for X in x.replace(\"nan\",\" \").split(\",\")])    "
      ],
      "execution_count": 0,
      "outputs": []
    },
    {
      "cell_type": "markdown",
      "metadata": {
        "id": "mApRDmFGHhsz",
        "colab_type": "text"
      },
      "source": [
        "### Features engineering part"
      ]
    },
    {
      "cell_type": "code",
      "metadata": {
        "id": "sg8-zujFHhs1",
        "colab_type": "code",
        "colab": {}
      },
      "source": [
        "def aggregate_features(x,col_name):\n",
        "    x[\"max_\"+col_name]=x[col_name].apply(np.max)\n",
        "    x[\"min_\"+col_name]=x[col_name].apply(np.min)\n",
        "    x[\"mean_\"+col_name]=x[col_name].apply(np.mean)\n",
        "    x[\"std_\"+col_name]=x[col_name].apply(np.std)\n",
        "    x[\"var_\"+col_name]=x[col_name].apply(np.var)\n",
        "    x[\"median_\"+col_name]=x[col_name].apply(np.median)\n",
        "    x[\"ptp_\"+col_name]=x[col_name].apply(np.ptp)\n",
        "    return x  \n",
        "def remove_nan_values(x):\n",
        "    return [e for e in x if not math.isnan(e)]\n"
      ],
      "execution_count": 0,
      "outputs": []
    },
    {
      "cell_type": "code",
      "metadata": {
        "id": "jSHXJxduHhs6",
        "colab_type": "code",
        "outputId": "521045cf-3e76-4418-e056-c48927fea06d",
        "colab": {
          "base_uri": "https://localhost:8080/",
          "height": 170
        }
      },
      "source": [
        "data=pd.concat([train,test],sort=False).reset_index(drop=True)\n",
        "data.columns.tolist()"
      ],
      "execution_count": 0,
      "outputs": [
        {
          "output_type": "execute_result",
          "data": {
            "text/plain": [
              "['ID',\n",
              " 'location',\n",
              " 'temp',\n",
              " 'precip',\n",
              " 'rel_humidity',\n",
              " 'wind_dir',\n",
              " 'wind_spd',\n",
              " 'atmos_press',\n",
              " 'target']"
            ]
          },
          "metadata": {
            "tags": []
          },
          "execution_count": 9
        }
      ]
    },
    {
      "cell_type": "code",
      "metadata": {
        "id": "1dYviSGeHhs_",
        "colab_type": "code",
        "outputId": "d7aed3ce-a6f0-48a7-a21c-5e5a66902656",
        "colab": {
          "base_uri": "https://localhost:8080/",
          "height": 34
        }
      },
      "source": [
        "data.shape"
      ],
      "execution_count": 0,
      "outputs": [
        {
          "output_type": "execute_result",
          "data": {
            "text/plain": [
              "(20574, 9)"
            ]
          },
          "metadata": {
            "tags": []
          },
          "execution_count": 10
        }
      ]
    },
    {
      "cell_type": "code",
      "metadata": {
        "id": "cNcORQK-HhtG",
        "colab_type": "code",
        "outputId": "ec2ab0a2-f4ec-41e6-b392-f5dc9a5f5ea9",
        "colab": {
          "base_uri": "https://localhost:8080/",
          "height": 34
        }
      },
      "source": [
        "for col_name in tqdm(features):\n",
        "    data[col_name]=data[col_name].apply(remove_nan_values)"
      ],
      "execution_count": 0,
      "outputs": [
        {
          "output_type": "stream",
          "text": [
            "100%|██████████| 6/6 [00:01<00:00,  3.06it/s]\n"
          ],
          "name": "stderr"
        }
      ]
    },
    {
      "cell_type": "code",
      "metadata": {
        "id": "K9iStUBEHhtO",
        "colab_type": "code",
        "outputId": "7193cac0-21e1-42f7-c5ed-9b8dead5c459",
        "colab": {
          "base_uri": "https://localhost:8080/",
          "height": 34
        }
      },
      "source": [
        "for col_name in tqdm(features):\n",
        "    data=aggregate_features(data,col_name)"
      ],
      "execution_count": 0,
      "outputs": [
        {
          "output_type": "stream",
          "text": [
            "100%|██████████| 6/6 [00:23<00:00,  3.92s/it]\n"
          ],
          "name": "stderr"
        }
      ]
    },
    {
      "cell_type": "code",
      "metadata": {
        "id": "aiAM7WA3HhtR",
        "colab_type": "code",
        "colab": {}
      },
      "source": [
        "data.drop(features,1,inplace=True)"
      ],
      "execution_count": 0,
      "outputs": []
    },
    {
      "cell_type": "code",
      "metadata": {
        "id": "b-inscoEHhtU",
        "colab_type": "code",
        "colab": {}
      },
      "source": [
        "train=data[data.target.notnull()].reset_index(drop=True)\n",
        "test=data[data.target.isna()].reset_index(drop=True)"
      ],
      "execution_count": 0,
      "outputs": []
    },
    {
      "cell_type": "code",
      "metadata": {
        "id": "j5JqDT3SHhtY",
        "colab_type": "code",
        "outputId": "d40f821a-d4fb-4f02-d9dc-2d957670c145",
        "colab": {
          "base_uri": "https://localhost:8080/",
          "height": 34
        }
      },
      "source": [
        "del data  \n",
        "gc.collect()"
      ],
      "execution_count": 0,
      "outputs": [
        {
          "output_type": "execute_result",
          "data": {
            "text/plain": [
              "93"
            ]
          },
          "metadata": {
            "tags": []
          },
          "execution_count": 15
        }
      ]
    },
    {
      "cell_type": "code",
      "metadata": {
        "id": "h_m0qW-3Hhtb",
        "colab_type": "code",
        "outputId": "9a8fc2fa-2904-4d2d-f88a-97318676eaae",
        "colab": {
          "base_uri": "https://localhost:8080/",
          "height": 224
        }
      },
      "source": [
        "train.head()"
      ],
      "execution_count": 0,
      "outputs": [
        {
          "output_type": "execute_result",
          "data": {
            "text/html": [
              "<div>\n",
              "<style scoped>\n",
              "    .dataframe tbody tr th:only-of-type {\n",
              "        vertical-align: middle;\n",
              "    }\n",
              "\n",
              "    .dataframe tbody tr th {\n",
              "        vertical-align: top;\n",
              "    }\n",
              "\n",
              "    .dataframe thead th {\n",
              "        text-align: right;\n",
              "    }\n",
              "</style>\n",
              "<table border=\"1\" class=\"dataframe\">\n",
              "  <thead>\n",
              "    <tr style=\"text-align: right;\">\n",
              "      <th></th>\n",
              "      <th>ID</th>\n",
              "      <th>location</th>\n",
              "      <th>target</th>\n",
              "      <th>max_temp</th>\n",
              "      <th>min_temp</th>\n",
              "      <th>mean_temp</th>\n",
              "      <th>std_temp</th>\n",
              "      <th>var_temp</th>\n",
              "      <th>median_temp</th>\n",
              "      <th>ptp_temp</th>\n",
              "      <th>max_precip</th>\n",
              "      <th>min_precip</th>\n",
              "      <th>mean_precip</th>\n",
              "      <th>std_precip</th>\n",
              "      <th>var_precip</th>\n",
              "      <th>median_precip</th>\n",
              "      <th>ptp_precip</th>\n",
              "      <th>max_rel_humidity</th>\n",
              "      <th>min_rel_humidity</th>\n",
              "      <th>mean_rel_humidity</th>\n",
              "      <th>std_rel_humidity</th>\n",
              "      <th>var_rel_humidity</th>\n",
              "      <th>median_rel_humidity</th>\n",
              "      <th>ptp_rel_humidity</th>\n",
              "      <th>max_wind_dir</th>\n",
              "      <th>min_wind_dir</th>\n",
              "      <th>mean_wind_dir</th>\n",
              "      <th>std_wind_dir</th>\n",
              "      <th>var_wind_dir</th>\n",
              "      <th>median_wind_dir</th>\n",
              "      <th>ptp_wind_dir</th>\n",
              "      <th>max_wind_spd</th>\n",
              "      <th>min_wind_spd</th>\n",
              "      <th>mean_wind_spd</th>\n",
              "      <th>std_wind_spd</th>\n",
              "      <th>var_wind_spd</th>\n",
              "      <th>median_wind_spd</th>\n",
              "      <th>ptp_wind_spd</th>\n",
              "      <th>max_atmos_press</th>\n",
              "      <th>min_atmos_press</th>\n",
              "      <th>mean_atmos_press</th>\n",
              "      <th>std_atmos_press</th>\n",
              "      <th>var_atmos_press</th>\n",
              "      <th>median_atmos_press</th>\n",
              "      <th>ptp_atmos_press</th>\n",
              "    </tr>\n",
              "  </thead>\n",
              "  <tbody>\n",
              "    <tr>\n",
              "      <th>0</th>\n",
              "      <td>ID_train_0</td>\n",
              "      <td>C</td>\n",
              "      <td>45.126304</td>\n",
              "      <td>27.208333</td>\n",
              "      <td>19.275000</td>\n",
              "      <td>22.299527</td>\n",
              "      <td>2.594011</td>\n",
              "      <td>6.728895</td>\n",
              "      <td>21.358333</td>\n",
              "      <td>7.933333</td>\n",
              "      <td>0.000</td>\n",
              "      <td>0.0</td>\n",
              "      <td>0.000000</td>\n",
              "      <td>0.000000</td>\n",
              "      <td>0.000000</td>\n",
              "      <td>0.0</td>\n",
              "      <td>0.000</td>\n",
              "      <td>0.891500</td>\n",
              "      <td>0.510818</td>\n",
              "      <td>0.758530</td>\n",
              "      <td>0.120234</td>\n",
              "      <td>0.014456</td>\n",
              "      <td>0.806292</td>\n",
              "      <td>0.380682</td>\n",
              "      <td>345.726333</td>\n",
              "      <td>6.535299</td>\n",
              "      <td>209.574655</td>\n",
              "      <td>120.231802</td>\n",
              "      <td>14455.686315</td>\n",
              "      <td>220.039988</td>\n",
              "      <td>339.191034</td>\n",
              "      <td>1.517500</td>\n",
              "      <td>0.162500</td>\n",
              "      <td>0.677348</td>\n",
              "      <td>0.394041</td>\n",
              "      <td>0.155268</td>\n",
              "      <td>0.666250</td>\n",
              "      <td>1.355000</td>\n",
              "      <td>87.871667</td>\n",
              "      <td>87.614167</td>\n",
              "      <td>87.752434</td>\n",
              "      <td>0.070374</td>\n",
              "      <td>0.004952</td>\n",
              "      <td>87.762083</td>\n",
              "      <td>0.257500</td>\n",
              "    </tr>\n",
              "    <tr>\n",
              "      <th>1</th>\n",
              "      <td>ID_train_1</td>\n",
              "      <td>D</td>\n",
              "      <td>79.131702</td>\n",
              "      <td>33.616667</td>\n",
              "      <td>17.983333</td>\n",
              "      <td>24.679063</td>\n",
              "      <td>4.266955</td>\n",
              "      <td>18.206903</td>\n",
              "      <td>23.791667</td>\n",
              "      <td>15.633333</td>\n",
              "      <td>0.561</td>\n",
              "      <td>0.0</td>\n",
              "      <td>0.007025</td>\n",
              "      <td>0.051706</td>\n",
              "      <td>0.002673</td>\n",
              "      <td>0.0</td>\n",
              "      <td>0.561</td>\n",
              "      <td>0.979250</td>\n",
              "      <td>0.403083</td>\n",
              "      <td>0.758058</td>\n",
              "      <td>0.160952</td>\n",
              "      <td>0.025906</td>\n",
              "      <td>0.791000</td>\n",
              "      <td>0.576167</td>\n",
              "      <td>357.730286</td>\n",
              "      <td>3.543198</td>\n",
              "      <td>177.109855</td>\n",
              "      <td>96.802929</td>\n",
              "      <td>9370.807133</td>\n",
              "      <td>153.164843</td>\n",
              "      <td>354.187088</td>\n",
              "      <td>3.009167</td>\n",
              "      <td>0.248333</td>\n",
              "      <td>0.899208</td>\n",
              "      <td>0.539199</td>\n",
              "      <td>0.290736</td>\n",
              "      <td>0.744167</td>\n",
              "      <td>2.760833</td>\n",
              "      <td>90.725000</td>\n",
              "      <td>90.056667</td>\n",
              "      <td>90.429924</td>\n",
              "      <td>0.156000</td>\n",
              "      <td>0.024336</td>\n",
              "      <td>90.429167</td>\n",
              "      <td>0.668333</td>\n",
              "    </tr>\n",
              "    <tr>\n",
              "      <th>2</th>\n",
              "      <td>ID_train_10</td>\n",
              "      <td>A</td>\n",
              "      <td>32.661304</td>\n",
              "      <td>31.841667</td>\n",
              "      <td>18.458333</td>\n",
              "      <td>24.112317</td>\n",
              "      <td>3.776377</td>\n",
              "      <td>14.261020</td>\n",
              "      <td>23.304167</td>\n",
              "      <td>13.383333</td>\n",
              "      <td>7.804</td>\n",
              "      <td>0.0</td>\n",
              "      <td>0.151767</td>\n",
              "      <td>0.798401</td>\n",
              "      <td>0.637445</td>\n",
              "      <td>0.0</td>\n",
              "      <td>7.804</td>\n",
              "      <td>0.930333</td>\n",
              "      <td>0.376750</td>\n",
              "      <td>0.712944</td>\n",
              "      <td>0.168129</td>\n",
              "      <td>0.028267</td>\n",
              "      <td>0.766458</td>\n",
              "      <td>0.553583</td>\n",
              "      <td>357.265773</td>\n",
              "      <td>0.581510</td>\n",
              "      <td>201.373211</td>\n",
              "      <td>92.105195</td>\n",
              "      <td>8483.367004</td>\n",
              "      <td>208.901301</td>\n",
              "      <td>356.684263</td>\n",
              "      <td>2.751667</td>\n",
              "      <td>0.331667</td>\n",
              "      <td>1.038656</td>\n",
              "      <td>0.585221</td>\n",
              "      <td>0.342484</td>\n",
              "      <td>0.942500</td>\n",
              "      <td>2.420000</td>\n",
              "      <td>88.813333</td>\n",
              "      <td>87.982500</td>\n",
              "      <td>88.420931</td>\n",
              "      <td>0.179481</td>\n",
              "      <td>0.032213</td>\n",
              "      <td>88.425000</td>\n",
              "      <td>0.830833</td>\n",
              "    </tr>\n",
              "    <tr>\n",
              "      <th>3</th>\n",
              "      <td>ID_train_100</td>\n",
              "      <td>A</td>\n",
              "      <td>53.850238</td>\n",
              "      <td>27.491667</td>\n",
              "      <td>16.941667</td>\n",
              "      <td>20.845273</td>\n",
              "      <td>3.080140</td>\n",
              "      <td>9.487259</td>\n",
              "      <td>19.541667</td>\n",
              "      <td>10.550000</td>\n",
              "      <td>25.787</td>\n",
              "      <td>0.0</td>\n",
              "      <td>1.127273</td>\n",
              "      <td>3.739886</td>\n",
              "      <td>13.986750</td>\n",
              "      <td>0.0</td>\n",
              "      <td>25.787</td>\n",
              "      <td>0.999917</td>\n",
              "      <td>0.618750</td>\n",
              "      <td>0.898326</td>\n",
              "      <td>0.114207</td>\n",
              "      <td>0.013043</td>\n",
              "      <td>0.970167</td>\n",
              "      <td>0.381167</td>\n",
              "      <td>357.246718</td>\n",
              "      <td>3.092044</td>\n",
              "      <td>259.973977</td>\n",
              "      <td>114.240190</td>\n",
              "      <td>13050.821125</td>\n",
              "      <td>318.539747</td>\n",
              "      <td>354.154674</td>\n",
              "      <td>2.744167</td>\n",
              "      <td>0.275000</td>\n",
              "      <td>1.365202</td>\n",
              "      <td>0.580259</td>\n",
              "      <td>0.336701</td>\n",
              "      <td>1.388333</td>\n",
              "      <td>2.469167</td>\n",
              "      <td>88.685000</td>\n",
              "      <td>87.965000</td>\n",
              "      <td>88.376915</td>\n",
              "      <td>0.161758</td>\n",
              "      <td>0.026166</td>\n",
              "      <td>88.400000</td>\n",
              "      <td>0.720000</td>\n",
              "    </tr>\n",
              "    <tr>\n",
              "      <th>4</th>\n",
              "      <td>ID_train_1000</td>\n",
              "      <td>A</td>\n",
              "      <td>177.418750</td>\n",
              "      <td>28.750000</td>\n",
              "      <td>17.525000</td>\n",
              "      <td>21.870732</td>\n",
              "      <td>3.286870</td>\n",
              "      <td>10.803515</td>\n",
              "      <td>20.950000</td>\n",
              "      <td>11.225000</td>\n",
              "      <td>0.136</td>\n",
              "      <td>0.0</td>\n",
              "      <td>0.005100</td>\n",
              "      <td>0.024498</td>\n",
              "      <td>0.000600</td>\n",
              "      <td>0.0</td>\n",
              "      <td>0.136</td>\n",
              "      <td>0.957000</td>\n",
              "      <td>0.486417</td>\n",
              "      <td>0.785134</td>\n",
              "      <td>0.143001</td>\n",
              "      <td>0.020449</td>\n",
              "      <td>0.839792</td>\n",
              "      <td>0.470583</td>\n",
              "      <td>359.193111</td>\n",
              "      <td>10.772327</td>\n",
              "      <td>181.944779</td>\n",
              "      <td>125.337606</td>\n",
              "      <td>15709.515580</td>\n",
              "      <td>160.078536</td>\n",
              "      <td>348.420784</td>\n",
              "      <td>1.994167</td>\n",
              "      <td>0.197500</td>\n",
              "      <td>0.729763</td>\n",
              "      <td>0.426251</td>\n",
              "      <td>0.181690</td>\n",
              "      <td>0.542917</td>\n",
              "      <td>1.796667</td>\n",
              "      <td>88.719167</td>\n",
              "      <td>88.268333</td>\n",
              "      <td>88.538104</td>\n",
              "      <td>0.118369</td>\n",
              "      <td>0.014011</td>\n",
              "      <td>88.552500</td>\n",
              "      <td>0.450833</td>\n",
              "    </tr>\n",
              "  </tbody>\n",
              "</table>\n",
              "</div>"
            ],
            "text/plain": [
              "              ID location  ...  median_atmos_press  ptp_atmos_press\n",
              "0     ID_train_0        C  ...           87.762083         0.257500\n",
              "1     ID_train_1        D  ...           90.429167         0.668333\n",
              "2    ID_train_10        A  ...           88.425000         0.830833\n",
              "3   ID_train_100        A  ...           88.400000         0.720000\n",
              "4  ID_train_1000        A  ...           88.552500         0.450833\n",
              "\n",
              "[5 rows x 45 columns]"
            ]
          },
          "metadata": {
            "tags": []
          },
          "execution_count": 16
        }
      ]
    },
    {
      "cell_type": "code",
      "metadata": {
        "id": "Ycw-LMZvHhtf",
        "colab_type": "code",
        "outputId": "875c5dcb-46fd-41d6-d9e0-7abcd833605a",
        "colab": {
          "base_uri": "https://localhost:8080/",
          "height": 224
        }
      },
      "source": [
        "test.head()"
      ],
      "execution_count": 0,
      "outputs": [
        {
          "output_type": "execute_result",
          "data": {
            "text/html": [
              "<div>\n",
              "<style scoped>\n",
              "    .dataframe tbody tr th:only-of-type {\n",
              "        vertical-align: middle;\n",
              "    }\n",
              "\n",
              "    .dataframe tbody tr th {\n",
              "        vertical-align: top;\n",
              "    }\n",
              "\n",
              "    .dataframe thead th {\n",
              "        text-align: right;\n",
              "    }\n",
              "</style>\n",
              "<table border=\"1\" class=\"dataframe\">\n",
              "  <thead>\n",
              "    <tr style=\"text-align: right;\">\n",
              "      <th></th>\n",
              "      <th>ID</th>\n",
              "      <th>location</th>\n",
              "      <th>target</th>\n",
              "      <th>max_temp</th>\n",
              "      <th>min_temp</th>\n",
              "      <th>mean_temp</th>\n",
              "      <th>std_temp</th>\n",
              "      <th>var_temp</th>\n",
              "      <th>median_temp</th>\n",
              "      <th>ptp_temp</th>\n",
              "      <th>max_precip</th>\n",
              "      <th>min_precip</th>\n",
              "      <th>mean_precip</th>\n",
              "      <th>std_precip</th>\n",
              "      <th>var_precip</th>\n",
              "      <th>median_precip</th>\n",
              "      <th>ptp_precip</th>\n",
              "      <th>max_rel_humidity</th>\n",
              "      <th>min_rel_humidity</th>\n",
              "      <th>mean_rel_humidity</th>\n",
              "      <th>std_rel_humidity</th>\n",
              "      <th>var_rel_humidity</th>\n",
              "      <th>median_rel_humidity</th>\n",
              "      <th>ptp_rel_humidity</th>\n",
              "      <th>max_wind_dir</th>\n",
              "      <th>min_wind_dir</th>\n",
              "      <th>mean_wind_dir</th>\n",
              "      <th>std_wind_dir</th>\n",
              "      <th>var_wind_dir</th>\n",
              "      <th>median_wind_dir</th>\n",
              "      <th>ptp_wind_dir</th>\n",
              "      <th>max_wind_spd</th>\n",
              "      <th>min_wind_spd</th>\n",
              "      <th>mean_wind_spd</th>\n",
              "      <th>std_wind_spd</th>\n",
              "      <th>var_wind_spd</th>\n",
              "      <th>median_wind_spd</th>\n",
              "      <th>ptp_wind_spd</th>\n",
              "      <th>max_atmos_press</th>\n",
              "      <th>min_atmos_press</th>\n",
              "      <th>mean_atmos_press</th>\n",
              "      <th>std_atmos_press</th>\n",
              "      <th>var_atmos_press</th>\n",
              "      <th>median_atmos_press</th>\n",
              "      <th>ptp_atmos_press</th>\n",
              "    </tr>\n",
              "  </thead>\n",
              "  <tbody>\n",
              "    <tr>\n",
              "      <th>0</th>\n",
              "      <td>ID_test_0</td>\n",
              "      <td>C</td>\n",
              "      <td>NaN</td>\n",
              "      <td>26.858333</td>\n",
              "      <td>17.050000</td>\n",
              "      <td>21.389532</td>\n",
              "      <td>2.731833</td>\n",
              "      <td>7.462909</td>\n",
              "      <td>20.908333</td>\n",
              "      <td>9.808333</td>\n",
              "      <td>5.728</td>\n",
              "      <td>0.0</td>\n",
              "      <td>0.204165</td>\n",
              "      <td>0.880254</td>\n",
              "      <td>0.774846</td>\n",
              "      <td>0.0</td>\n",
              "      <td>5.728</td>\n",
              "      <td>0.999833</td>\n",
              "      <td>0.586083</td>\n",
              "      <td>0.842947</td>\n",
              "      <td>0.124179</td>\n",
              "      <td>0.015420</td>\n",
              "      <td>0.859250</td>\n",
              "      <td>0.413750</td>\n",
              "      <td>357.223551</td>\n",
              "      <td>7.092226</td>\n",
              "      <td>231.104760</td>\n",
              "      <td>83.856214</td>\n",
              "      <td>7031.864555</td>\n",
              "      <td>217.738239</td>\n",
              "      <td>350.131326</td>\n",
              "      <td>1.915833</td>\n",
              "      <td>0.171667</td>\n",
              "      <td>0.812555</td>\n",
              "      <td>0.392783</td>\n",
              "      <td>0.154279</td>\n",
              "      <td>0.767500</td>\n",
              "      <td>1.744167</td>\n",
              "      <td>88.020833</td>\n",
              "      <td>87.474167</td>\n",
              "      <td>87.748506</td>\n",
              "      <td>0.132764</td>\n",
              "      <td>0.017626</td>\n",
              "      <td>87.752500</td>\n",
              "      <td>0.546667</td>\n",
              "    </tr>\n",
              "    <tr>\n",
              "      <th>1</th>\n",
              "      <td>ID_test_1</td>\n",
              "      <td>C</td>\n",
              "      <td>NaN</td>\n",
              "      <td>26.991667</td>\n",
              "      <td>17.275000</td>\n",
              "      <td>21.302824</td>\n",
              "      <td>2.289268</td>\n",
              "      <td>5.240748</td>\n",
              "      <td>20.716667</td>\n",
              "      <td>9.716667</td>\n",
              "      <td>15.831</td>\n",
              "      <td>0.0</td>\n",
              "      <td>0.208719</td>\n",
              "      <td>1.517969</td>\n",
              "      <td>2.304229</td>\n",
              "      <td>0.0</td>\n",
              "      <td>15.831</td>\n",
              "      <td>0.999750</td>\n",
              "      <td>0.583167</td>\n",
              "      <td>0.830610</td>\n",
              "      <td>0.106384</td>\n",
              "      <td>0.011318</td>\n",
              "      <td>0.852000</td>\n",
              "      <td>0.416583</td>\n",
              "      <td>351.333059</td>\n",
              "      <td>6.290985</td>\n",
              "      <td>212.924101</td>\n",
              "      <td>91.254295</td>\n",
              "      <td>8327.346424</td>\n",
              "      <td>181.691165</td>\n",
              "      <td>345.042074</td>\n",
              "      <td>2.099167</td>\n",
              "      <td>0.210000</td>\n",
              "      <td>0.852562</td>\n",
              "      <td>0.456733</td>\n",
              "      <td>0.208605</td>\n",
              "      <td>0.771667</td>\n",
              "      <td>1.889167</td>\n",
              "      <td>88.181667</td>\n",
              "      <td>87.572500</td>\n",
              "      <td>87.936963</td>\n",
              "      <td>0.113756</td>\n",
              "      <td>0.012940</td>\n",
              "      <td>87.928333</td>\n",
              "      <td>0.609167</td>\n",
              "    </tr>\n",
              "    <tr>\n",
              "      <th>2</th>\n",
              "      <td>ID_test_10</td>\n",
              "      <td>D</td>\n",
              "      <td>NaN</td>\n",
              "      <td>29.850000</td>\n",
              "      <td>17.108333</td>\n",
              "      <td>22.144421</td>\n",
              "      <td>2.943047</td>\n",
              "      <td>8.661528</td>\n",
              "      <td>21.458333</td>\n",
              "      <td>12.741667</td>\n",
              "      <td>1.327</td>\n",
              "      <td>0.0</td>\n",
              "      <td>0.040190</td>\n",
              "      <td>0.164596</td>\n",
              "      <td>0.027092</td>\n",
              "      <td>0.0</td>\n",
              "      <td>1.327</td>\n",
              "      <td>0.986750</td>\n",
              "      <td>0.515167</td>\n",
              "      <td>0.868258</td>\n",
              "      <td>0.096427</td>\n",
              "      <td>0.009298</td>\n",
              "      <td>0.903750</td>\n",
              "      <td>0.471583</td>\n",
              "      <td>356.508481</td>\n",
              "      <td>2.279896</td>\n",
              "      <td>167.731590</td>\n",
              "      <td>98.024235</td>\n",
              "      <td>9608.750685</td>\n",
              "      <td>144.225803</td>\n",
              "      <td>354.228585</td>\n",
              "      <td>3.127500</td>\n",
              "      <td>0.237500</td>\n",
              "      <td>0.803140</td>\n",
              "      <td>0.569737</td>\n",
              "      <td>0.324600</td>\n",
              "      <td>0.567500</td>\n",
              "      <td>2.890000</td>\n",
              "      <td>90.785000</td>\n",
              "      <td>90.115000</td>\n",
              "      <td>90.521357</td>\n",
              "      <td>0.136316</td>\n",
              "      <td>0.018582</td>\n",
              "      <td>90.536667</td>\n",
              "      <td>0.670000</td>\n",
              "    </tr>\n",
              "    <tr>\n",
              "      <th>3</th>\n",
              "      <td>ID_test_100</td>\n",
              "      <td>C</td>\n",
              "      <td>NaN</td>\n",
              "      <td>27.325000</td>\n",
              "      <td>18.633333</td>\n",
              "      <td>22.361639</td>\n",
              "      <td>2.480003</td>\n",
              "      <td>6.150415</td>\n",
              "      <td>21.616667</td>\n",
              "      <td>8.691667</td>\n",
              "      <td>3.604</td>\n",
              "      <td>0.0</td>\n",
              "      <td>0.035686</td>\n",
              "      <td>0.328542</td>\n",
              "      <td>0.107940</td>\n",
              "      <td>0.0</td>\n",
              "      <td>3.604</td>\n",
              "      <td>0.983250</td>\n",
              "      <td>0.582583</td>\n",
              "      <td>0.792134</td>\n",
              "      <td>0.100795</td>\n",
              "      <td>0.010160</td>\n",
              "      <td>0.812000</td>\n",
              "      <td>0.400667</td>\n",
              "      <td>353.300228</td>\n",
              "      <td>0.125888</td>\n",
              "      <td>199.467348</td>\n",
              "      <td>106.904504</td>\n",
              "      <td>11428.572983</td>\n",
              "      <td>172.913664</td>\n",
              "      <td>353.174340</td>\n",
              "      <td>1.790000</td>\n",
              "      <td>0.215000</td>\n",
              "      <td>0.797528</td>\n",
              "      <td>0.430546</td>\n",
              "      <td>0.185370</td>\n",
              "      <td>0.685000</td>\n",
              "      <td>1.575000</td>\n",
              "      <td>88.078333</td>\n",
              "      <td>87.560000</td>\n",
              "      <td>87.754848</td>\n",
              "      <td>0.125583</td>\n",
              "      <td>0.015771</td>\n",
              "      <td>87.726667</td>\n",
              "      <td>0.518333</td>\n",
              "    </tr>\n",
              "    <tr>\n",
              "      <th>4</th>\n",
              "      <td>ID_test_1000</td>\n",
              "      <td>D</td>\n",
              "      <td>NaN</td>\n",
              "      <td>31.091667</td>\n",
              "      <td>16.908333</td>\n",
              "      <td>23.560243</td>\n",
              "      <td>4.136978</td>\n",
              "      <td>17.114585</td>\n",
              "      <td>22.825000</td>\n",
              "      <td>14.183333</td>\n",
              "      <td>0.000</td>\n",
              "      <td>0.0</td>\n",
              "      <td>0.000000</td>\n",
              "      <td>0.000000</td>\n",
              "      <td>0.000000</td>\n",
              "      <td>0.0</td>\n",
              "      <td>0.000</td>\n",
              "      <td>0.939091</td>\n",
              "      <td>0.467500</td>\n",
              "      <td>0.742784</td>\n",
              "      <td>0.132957</td>\n",
              "      <td>0.017678</td>\n",
              "      <td>0.763636</td>\n",
              "      <td>0.471591</td>\n",
              "      <td>357.394131</td>\n",
              "      <td>5.507766</td>\n",
              "      <td>188.649303</td>\n",
              "      <td>107.050126</td>\n",
              "      <td>11459.729472</td>\n",
              "      <td>165.312472</td>\n",
              "      <td>351.886365</td>\n",
              "      <td>2.045000</td>\n",
              "      <td>0.283333</td>\n",
              "      <td>0.811990</td>\n",
              "      <td>0.440297</td>\n",
              "      <td>0.193861</td>\n",
              "      <td>0.609091</td>\n",
              "      <td>1.761667</td>\n",
              "      <td>90.798333</td>\n",
              "      <td>90.105833</td>\n",
              "      <td>90.475030</td>\n",
              "      <td>0.161193</td>\n",
              "      <td>0.025983</td>\n",
              "      <td>90.487273</td>\n",
              "      <td>0.692500</td>\n",
              "    </tr>\n",
              "  </tbody>\n",
              "</table>\n",
              "</div>"
            ],
            "text/plain": [
              "             ID location  ...  median_atmos_press  ptp_atmos_press\n",
              "0     ID_test_0        C  ...           87.752500         0.546667\n",
              "1     ID_test_1        C  ...           87.928333         0.609167\n",
              "2    ID_test_10        D  ...           90.536667         0.670000\n",
              "3   ID_test_100        C  ...           87.726667         0.518333\n",
              "4  ID_test_1000        D  ...           90.487273         0.692500\n",
              "\n",
              "[5 rows x 45 columns]"
            ]
          },
          "metadata": {
            "tags": []
          },
          "execution_count": 17
        }
      ]
    },
    {
      "cell_type": "markdown",
      "metadata": {
        "id": "zIprGUC2Hhtj",
        "colab_type": "text"
      },
      "source": [
        "#### Cross validation strategy (Kfold,or simple train test split )"
      ]
    },
    {
      "cell_type": "code",
      "metadata": {
        "id": "rXICDSaMHhtk",
        "colab_type": "code",
        "colab": {}
      },
      "source": [
        "Experiment_name=\"simple_model\""
      ],
      "execution_count": 0,
      "outputs": []
    },
    {
      "cell_type": "code",
      "metadata": {
        "id": "uHk6jMhnHhtn",
        "colab_type": "code",
        "colab": {}
      },
      "source": [
        "import os\n",
        "os.makedirs(\"proc_data\", exist_ok=True)\n",
        "# os.makedirs(\"model_save/lgbm/{}\".format(Experiment_name), exist_ok=True)\n",
        "# os.makedirs(\"model_save/catboost/{}\".format(Experiment_name), exist_ok=True)\n",
        "# os.makedirs(\"model_save/xgboost/{}\".format(Experiment_name), exist_ok=True)"
      ],
      "execution_count": 0,
      "outputs": []
    },
    {
      "cell_type": "code",
      "metadata": {
        "id": "lixIzvh8Hhts",
        "colab_type": "code",
        "colab": {}
      },
      "source": [
        "try : \n",
        "    folds=pd.read_csv(\"./proc_data/folds_id.csv\")\n",
        "    train=train.merge(folds,on=\"ID\",how=\"left\")\n",
        "    train.fold.nunique()\n",
        "except : \n",
        "    #  you run this cell  only for the first time \n",
        "    from sklearn.model_selection import KFold \n",
        "    kfold=KFold(n_splits=5,shuffle=True,random_state=2020) # change this random_state or all of you will have the same score  :D \n",
        "    train.reset_index(drop=True,inplace=True)\n",
        "    folds=train[[\"ID\"]].copy()\n",
        "    folds[\"fold\"]=0\n",
        "    for fold,(tr_indx,val_ind) in enumerate(kfold.split(folds)) : \n",
        "        folds.loc[val_ind,\"fold\"]=fold\n",
        "    folds.to_csv(\"./proc_data/folds_id.csv\",index=False)\n",
        "    train=train.merge(folds,on=\"ID\",how=\"left\")\n",
        "    \n",
        "    del folds"
      ],
      "execution_count": 0,
      "outputs": []
    },
    {
      "cell_type": "markdown",
      "metadata": {
        "id": "WOR5662jHhtv",
        "colab_type": "text"
      },
      "source": [
        "### Model "
      ]
    },
    {
      "cell_type": "markdown",
      "metadata": {
        "id": "XwrUm1CIHht0",
        "colab_type": "text"
      },
      "source": [
        "### Lgbm "
      ]
    },
    {
      "cell_type": "code",
      "metadata": {
        "id": "MHYW8QpoHht2",
        "colab_type": "code",
        "outputId": "3ba432e8-3eb4-481e-f256-85c29d8bbff2",
        "colab": {
          "base_uri": "https://localhost:8080/",
          "height": 238
        }
      },
      "source": [
        "train.columns"
      ],
      "execution_count": 0,
      "outputs": [
        {
          "output_type": "execute_result",
          "data": {
            "text/plain": [
              "Index(['ID', 'location', 'target', 'max_temp', 'min_temp', 'mean_temp',\n",
              "       'std_temp', 'var_temp', 'median_temp', 'ptp_temp', 'max_precip',\n",
              "       'min_precip', 'mean_precip', 'std_precip', 'var_precip',\n",
              "       'median_precip', 'ptp_precip', 'max_rel_humidity', 'min_rel_humidity',\n",
              "       'mean_rel_humidity', 'std_rel_humidity', 'var_rel_humidity',\n",
              "       'median_rel_humidity', 'ptp_rel_humidity', 'max_wind_dir',\n",
              "       'min_wind_dir', 'mean_wind_dir', 'std_wind_dir', 'var_wind_dir',\n",
              "       'median_wind_dir', 'ptp_wind_dir', 'max_wind_spd', 'min_wind_spd',\n",
              "       'mean_wind_spd', 'std_wind_spd', 'var_wind_spd', 'median_wind_spd',\n",
              "       'ptp_wind_spd', 'max_atmos_press', 'min_atmos_press',\n",
              "       'mean_atmos_press', 'std_atmos_press', 'var_atmos_press',\n",
              "       'median_atmos_press', 'ptp_atmos_press', 'fold'],\n",
              "      dtype='object')"
            ]
          },
          "metadata": {
            "tags": []
          },
          "execution_count": 21
        }
      ]
    },
    {
      "cell_type": "code",
      "metadata": {
        "id": "jUldnPG8Hht8",
        "colab_type": "code",
        "colab": {}
      },
      "source": [
        "target_name=\"target\"\n",
        "id_name=\"ID\"\n",
        "features_to_remove=[\"location\",target_name,id_name,\"fold\"]\n",
        "features=train.columns.tolist()\n",
        "features=[ fea for fea in  features if fea not in features_to_remove  ]\n",
        "features"
      ],
      "execution_count": 0,
      "outputs": []
    },
    {
      "cell_type": "code",
      "metadata": {
        "id": "gEMsXuSmHhuC",
        "colab_type": "code",
        "colab": {}
      },
      "source": [
        "from sklearn.metrics import mean_squared_error\n",
        "def metric(y,x):\n",
        "    return np.sqrt(mean_squared_error(x,y))"
      ],
      "execution_count": 0,
      "outputs": []
    },
    {
      "cell_type": "code",
      "metadata": {
        "id": "TQQ5RBZ7D2c9",
        "colab_type": "code",
        "colab": {}
      },
      "source": [
        ""
      ],
      "execution_count": 0,
      "outputs": []
    },
    {
      "cell_type": "code",
      "metadata": {
        "id": "gNZsZC7qHhuH",
        "colab_type": "code",
        "colab": {}
      },
      "source": [
        "import  lightgbm as lgbm \n",
        "import xgboost as xgb \n",
        "#import catboost as cat "
      ],
      "execution_count": 0,
      "outputs": []
    },
    {
      "cell_type": "code",
      "metadata": {
        "id": "FAlpIJWfHhuK",
        "colab_type": "code",
        "colab": {}
      },
      "source": [
        "def train_function(model,train,test,params,other_params,target_name,features,metric):\n",
        "    folds_num=train.fold.nunique()\n",
        "    validation=train[[id_name,\"fold\",target_name]].copy()\n",
        "    validation[\"pred_\"+target_name]=0\n",
        "    sub=test[[id_name]].copy()\n",
        "    \n",
        "    for fold in np.sort(train.fold.unique()):\n",
        "        print(\"#\"*50+\" {} \".format(fold)+\"#\"*50)\n",
        "        os.makedirs(\"model_save/lgbm/{}/{}\".format(Experiment_name,str(int(fold))), exist_ok=True)\n",
        "        X_train=train[train.fold!=fold]\n",
        "        X_val=train[train.fold==fold]\n",
        "        \n",
        "        train_pred,validation_pred,test_pred=model(X_train,X_val,test,params,other_params)\n",
        "        \n",
        "        validation.loc[validation.fold==fold,\"pred_\"+target_name]=validation_pred\n",
        "        sub[target_name]=test_pred/folds_num\n",
        "        train_score=metric(X_train[target_name],train_pred)\n",
        "        val_score=metric(X_val[target_name],validation_pred)\n",
        "        print(\"train score : {} validation score : {}\".format(round(train_score,4),round(val_score,4)))\n",
        "    final_validation_score=metric(validation[target_name],validation[\"pred_\"+target_name])\n",
        "    print(\"final validation score : {}\".format(final_validation_score))\n",
        "        \n",
        "    return sub,validation,final_validation_score\n",
        "\n",
        "def lgbm_model(X_train,X_val,X_test,params,other_params):\n",
        "    dtrain = lgbm.Dataset(data=X_train[features], label=X_train[target_name], feature_name=features)\n",
        "    dval = lgbm.Dataset(data=X_val[features], label=X_val[target_name], feature_name=features)\n",
        "\n",
        "    \n",
        "    model = lgbm.train(\n",
        "        params=params,\n",
        "        train_set=dtrain,\n",
        "        num_boost_round=other_params[\"num_boost_round\"],\n",
        "        valid_sets=(dtrain, dval),\n",
        "        early_stopping_rounds=other_params[\"early_stopping_rounds\"],\n",
        "        verbose_eval=other_params[\"verbose_eval\"]\n",
        "    )        \n",
        "    best_iteration = model.best_iteration\n",
        "    train_pred=model.predict(X_train[features], num_iteration=best_iteration)\n",
        "    validation_pred=model.predict(X_val[features], num_iteration=best_iteration)\n",
        "    test_pred=model.predict(X_test[features], num_iteration=best_iteration)\n",
        "\n",
        "    \n",
        "    return train_pred,validation_pred,test_pred"
      ],
      "execution_count": 0,
      "outputs": []
    },
    {
      "cell_type": "code",
      "metadata": {
        "id": "RlU1uASgHhuO",
        "colab_type": "code",
        "colab": {}
      },
      "source": [
        "other_params={\"num_boost_round\":50000000,\n",
        "              \"early_stopping_rounds\":50,\n",
        "              \"verbose_eval\":1000,\n",
        "}\n",
        "lgbm_params = {\n",
        "    \"bagging_fraction\": 0.8,\n",
        "    \"bagging_freq\": 2,\n",
        "    \"boosting_type\": \"gbdt\",\n",
        "    \"feature_fraction\": 0.8,\n",
        "    \"learning_rate\": 0.01,\n",
        "    \"max_depth\": 8,\n",
        "    \"num_threads\": 16,\n",
        "    \"objective\": \"regression\",\n",
        "    \"metric\": \"rmse\",\n",
        "    \"seed\": 2020,\n",
        "}"
      ],
      "execution_count": 0,
      "outputs": []
    },
    {
      "cell_type": "code",
      "metadata": {
        "id": "DTWeEZUZHhuS",
        "colab_type": "code",
        "outputId": "ab24ba56-a9ee-4110-e8e1-fee005455380",
        "colab": {
          "base_uri": "https://localhost:8080/",
          "height": 1000
        }
      },
      "source": [
        "sub,validation,score=train_function(model=lgbm_model,\n",
        "                                    train=train,\n",
        "                                    test=test,\n",
        "                                    params=lgbm_params,\n",
        "                                    other_params=other_params,\n",
        "                                    target_name=target_name,\n",
        "                                    features=features,\n",
        "                                    metric=metric)"
      ],
      "execution_count": 0,
      "outputs": [
        {
          "output_type": "stream",
          "text": [
            "################################################## 0 ##################################################\n",
            "Training until validation scores don't improve for 50 rounds.\n",
            "[1000]\ttraining's rmse: 26.3855\tvalid_1's rmse: 32.8513\n",
            "[2000]\ttraining's rmse: 23.2556\tvalid_1's rmse: 31.4235\n",
            "[3000]\ttraining's rmse: 21.2613\tvalid_1's rmse: 30.6293\n",
            "[4000]\ttraining's rmse: 19.7679\tvalid_1's rmse: 30.1133\n",
            "[5000]\ttraining's rmse: 18.5843\tvalid_1's rmse: 29.7288\n",
            "[6000]\ttraining's rmse: 17.6155\tvalid_1's rmse: 29.4514\n",
            "[7000]\ttraining's rmse: 16.7918\tvalid_1's rmse: 29.228\n",
            "[8000]\ttraining's rmse: 16.0739\tvalid_1's rmse: 29.0545\n",
            "Early stopping, best iteration is:\n",
            "[8442]\ttraining's rmse: 15.7931\tvalid_1's rmse: 28.9985\n",
            "train score : 15.7931 validation score : 28.9985\n",
            "################################################## 1 ##################################################\n",
            "Training until validation scores don't improve for 50 rounds.\n",
            "[1000]\ttraining's rmse: 26.9397\tvalid_1's rmse: 30.2407\n",
            "[2000]\ttraining's rmse: 23.713\tvalid_1's rmse: 28.9678\n",
            "[3000]\ttraining's rmse: 21.6072\tvalid_1's rmse: 28.4087\n",
            "[4000]\ttraining's rmse: 20.0619\tvalid_1's rmse: 27.9715\n",
            "[5000]\ttraining's rmse: 18.839\tvalid_1's rmse: 27.706\n",
            "[6000]\ttraining's rmse: 17.8581\tvalid_1's rmse: 27.5152\n",
            "Early stopping, best iteration is:\n",
            "[6269]\ttraining's rmse: 17.6135\tvalid_1's rmse: 27.4549\n",
            "train score : 17.6135 validation score : 27.4549\n",
            "################################################## 2 ##################################################\n",
            "Training until validation scores don't improve for 50 rounds.\n",
            "[1000]\ttraining's rmse: 26.3663\tvalid_1's rmse: 32.5008\n",
            "[2000]\ttraining's rmse: 23.2585\tvalid_1's rmse: 31.1576\n",
            "[3000]\ttraining's rmse: 21.2826\tvalid_1's rmse: 30.4533\n",
            "[4000]\ttraining's rmse: 19.808\tvalid_1's rmse: 29.9297\n",
            "[5000]\ttraining's rmse: 18.6579\tvalid_1's rmse: 29.5718\n",
            "[6000]\ttraining's rmse: 17.6855\tvalid_1's rmse: 29.3001\n",
            "Early stopping, best iteration is:\n",
            "[6478]\ttraining's rmse: 17.2878\tvalid_1's rmse: 29.1908\n",
            "train score : 17.2878 validation score : 29.1908\n",
            "################################################## 3 ##################################################\n",
            "Training until validation scores don't improve for 50 rounds.\n",
            "[1000]\ttraining's rmse: 26.8432\tvalid_1's rmse: 29.4512\n",
            "[2000]\ttraining's rmse: 23.6593\tvalid_1's rmse: 28.0053\n",
            "[3000]\ttraining's rmse: 21.57\tvalid_1's rmse: 27.2886\n",
            "[4000]\ttraining's rmse: 20.0268\tvalid_1's rmse: 26.8607\n",
            "[5000]\ttraining's rmse: 18.812\tvalid_1's rmse: 26.5499\n",
            "[6000]\ttraining's rmse: 17.8045\tvalid_1's rmse: 26.3299\n",
            "Early stopping, best iteration is:\n",
            "[6034]\ttraining's rmse: 17.7729\tvalid_1's rmse: 26.3173\n",
            "train score : 17.7729 validation score : 26.3173\n",
            "################################################## 4 ##################################################\n",
            "Training until validation scores don't improve for 50 rounds.\n",
            "[1000]\ttraining's rmse: 26.6113\tvalid_1's rmse: 30.6335\n",
            "[2000]\ttraining's rmse: 23.471\tvalid_1's rmse: 29.4892\n",
            "[3000]\ttraining's rmse: 21.3838\tvalid_1's rmse: 28.868\n",
            "[4000]\ttraining's rmse: 19.8721\tvalid_1's rmse: 28.4749\n",
            "[5000]\ttraining's rmse: 18.6703\tvalid_1's rmse: 28.2315\n",
            "[6000]\ttraining's rmse: 17.6619\tvalid_1's rmse: 28.0332\n",
            "[7000]\ttraining's rmse: 16.824\tvalid_1's rmse: 27.882\n",
            "Early stopping, best iteration is:\n",
            "[7332]\ttraining's rmse: 16.5704\tvalid_1's rmse: 27.8229\n",
            "train score : 16.5704 validation score : 27.8229\n",
            "final validation score : 27.976793947624454\n"
          ],
          "name": "stdout"
        }
      ]
    },
    {
      "cell_type": "code",
      "metadata": {
        "id": "X1cYRRTpHhuV",
        "colab_type": "code",
        "colab": {}
      },
      "source": [
        "os.makedirs(\"subs\", exist_ok=True)"
      ],
      "execution_count": 0,
      "outputs": []
    },
    {
      "cell_type": "code",
      "metadata": {
        "id": "YxVt4ikW5-Y4",
        "colab_type": "code",
        "outputId": "60b72ffe-dd19-4534-a291-7dea9ce1f63b",
        "colab": {
          "base_uri": "https://localhost:8080/",
          "height": 359
        }
      },
      "source": [
        "sub.head(10)"
      ],
      "execution_count": 0,
      "outputs": [
        {
          "output_type": "execute_result",
          "data": {
            "text/html": [
              "<div>\n",
              "<style scoped>\n",
              "    .dataframe tbody tr th:only-of-type {\n",
              "        vertical-align: middle;\n",
              "    }\n",
              "\n",
              "    .dataframe tbody tr th {\n",
              "        vertical-align: top;\n",
              "    }\n",
              "\n",
              "    .dataframe thead th {\n",
              "        text-align: right;\n",
              "    }\n",
              "</style>\n",
              "<table border=\"1\" class=\"dataframe\">\n",
              "  <thead>\n",
              "    <tr style=\"text-align: right;\">\n",
              "      <th></th>\n",
              "      <th>ID</th>\n",
              "      <th>target</th>\n",
              "    </tr>\n",
              "  </thead>\n",
              "  <tbody>\n",
              "    <tr>\n",
              "      <th>0</th>\n",
              "      <td>ID_test_0</td>\n",
              "      <td>9.291990</td>\n",
              "    </tr>\n",
              "    <tr>\n",
              "      <th>1</th>\n",
              "      <td>ID_test_1</td>\n",
              "      <td>37.069261</td>\n",
              "    </tr>\n",
              "    <tr>\n",
              "      <th>2</th>\n",
              "      <td>ID_test_10</td>\n",
              "      <td>10.828828</td>\n",
              "    </tr>\n",
              "    <tr>\n",
              "      <th>3</th>\n",
              "      <td>ID_test_100</td>\n",
              "      <td>23.121519</td>\n",
              "    </tr>\n",
              "    <tr>\n",
              "      <th>4</th>\n",
              "      <td>ID_test_1000</td>\n",
              "      <td>21.970731</td>\n",
              "    </tr>\n",
              "    <tr>\n",
              "      <th>5</th>\n",
              "      <td>ID_test_1001</td>\n",
              "      <td>9.832952</td>\n",
              "    </tr>\n",
              "    <tr>\n",
              "      <th>6</th>\n",
              "      <td>ID_test_1002</td>\n",
              "      <td>13.632177</td>\n",
              "    </tr>\n",
              "    <tr>\n",
              "      <th>7</th>\n",
              "      <td>ID_test_1003</td>\n",
              "      <td>29.417090</td>\n",
              "    </tr>\n",
              "    <tr>\n",
              "      <th>8</th>\n",
              "      <td>ID_test_1004</td>\n",
              "      <td>11.417143</td>\n",
              "    </tr>\n",
              "    <tr>\n",
              "      <th>9</th>\n",
              "      <td>ID_test_1005</td>\n",
              "      <td>7.098362</td>\n",
              "    </tr>\n",
              "  </tbody>\n",
              "</table>\n",
              "</div>"
            ],
            "text/plain": [
              "             ID     target\n",
              "0     ID_test_0   9.291990\n",
              "1     ID_test_1  37.069261\n",
              "2    ID_test_10  10.828828\n",
              "3   ID_test_100  23.121519\n",
              "4  ID_test_1000  21.970731\n",
              "5  ID_test_1001   9.832952\n",
              "6  ID_test_1002  13.632177\n",
              "7  ID_test_1003  29.417090\n",
              "8  ID_test_1004  11.417143\n",
              "9  ID_test_1005   7.098362"
            ]
          },
          "metadata": {
            "tags": []
          },
          "execution_count": 80
        }
      ]
    },
    {
      "cell_type": "code",
      "metadata": {
        "id": "x0z2dJun6jlB",
        "colab_type": "code",
        "outputId": "1c664f56-c04a-4bbf-971f-46f28acd7bbb",
        "colab": {
          "base_uri": "https://localhost:8080/",
          "height": 204
        }
      },
      "source": [
        "sub1=sub.copy()\n",
        "sub1['ID']=sample['ID']\n",
        "sub1.head()"
      ],
      "execution_count": 0,
      "outputs": [
        {
          "output_type": "execute_result",
          "data": {
            "text/html": [
              "<div>\n",
              "<style scoped>\n",
              "    .dataframe tbody tr th:only-of-type {\n",
              "        vertical-align: middle;\n",
              "    }\n",
              "\n",
              "    .dataframe tbody tr th {\n",
              "        vertical-align: top;\n",
              "    }\n",
              "\n",
              "    .dataframe thead th {\n",
              "        text-align: right;\n",
              "    }\n",
              "</style>\n",
              "<table border=\"1\" class=\"dataframe\">\n",
              "  <thead>\n",
              "    <tr style=\"text-align: right;\">\n",
              "      <th></th>\n",
              "      <th>ID</th>\n",
              "      <th>target</th>\n",
              "    </tr>\n",
              "  </thead>\n",
              "  <tbody>\n",
              "    <tr>\n",
              "      <th>0</th>\n",
              "      <td>ID_test_0</td>\n",
              "      <td>9.291990</td>\n",
              "    </tr>\n",
              "    <tr>\n",
              "      <th>1</th>\n",
              "      <td>ID_test_1</td>\n",
              "      <td>37.069261</td>\n",
              "    </tr>\n",
              "    <tr>\n",
              "      <th>2</th>\n",
              "      <td>ID_test_2</td>\n",
              "      <td>10.828828</td>\n",
              "    </tr>\n",
              "    <tr>\n",
              "      <th>3</th>\n",
              "      <td>ID_test_3</td>\n",
              "      <td>23.121519</td>\n",
              "    </tr>\n",
              "    <tr>\n",
              "      <th>4</th>\n",
              "      <td>ID_test_4</td>\n",
              "      <td>21.970731</td>\n",
              "    </tr>\n",
              "  </tbody>\n",
              "</table>\n",
              "</div>"
            ],
            "text/plain": [
              "          ID     target\n",
              "0  ID_test_0   9.291990\n",
              "1  ID_test_1  37.069261\n",
              "2  ID_test_2  10.828828\n",
              "3  ID_test_3  23.121519\n",
              "4  ID_test_4  21.970731"
            ]
          },
          "metadata": {
            "tags": []
          },
          "execution_count": 81
        }
      ]
    },
    {
      "cell_type": "code",
      "metadata": {
        "id": "B9CAkgdYHhua",
        "colab_type": "code",
        "colab": {}
      },
      "source": [
        "sub1.to_csv(\"./subs/lgbm_{}.csv\".format(round(score,2)),index=False)"
      ],
      "execution_count": 0,
      "outputs": []
    },
    {
      "cell_type": "code",
      "metadata": {
        "id": "DeyYTvkhxll9",
        "colab_type": "code",
        "colab": {}
      },
      "source": [
        ""
      ],
      "execution_count": 0,
      "outputs": []
    }
  ]
}